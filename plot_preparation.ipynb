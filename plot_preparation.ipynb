{
 "cells": [
  {
   "cell_type": "code",
   "execution_count": 1,
   "metadata": {},
   "outputs": [
    {
     "data": {
      "text/plain": [
       "torch.Size([1, 768])"
      ]
     },
     "execution_count": 1,
     "metadata": {},
     "output_type": "execute_result"
    }
   ],
   "source": [
    "# get embeddings from uniprotid\n",
    "import pickle\n",
    "with open('data/uniprotid_to_emb.pkl', 'rb') as f:\n",
    "    embeddings = pickle.load(f)\n",
    "embeddings['P00533'].shape"
   ]
  },
  {
   "cell_type": "code",
   "execution_count": 2,
   "metadata": {},
   "outputs": [
    {
     "data": {
      "text/plain": [
       "array([5.416897 , 5.5928226, 4.584672 ], dtype=float32)"
      ]
     },
     "execution_count": 2,
     "metadata": {},
     "output_type": "execute_result"
    }
   ],
   "source": [
    "import umap\n",
    "from sklearn.preprocessing import StandardScaler\n",
    "\n",
    "embeddings_list = []\n",
    "uniprot_ids = []\n",
    "for uniprot_id, embedding in embeddings.items():\n",
    "    embeddings_list.append(embedding.numpy().flatten())\n",
    "    uniprot_ids.append(uniprot_id)\n",
    "\n",
    "scaler = StandardScaler()\n",
    "scaled_embeddings = scaler.fit_transform(embeddings_list)\n",
    "\n",
    "reducer = umap.UMAP(n_components=3)\n",
    "embeddings_umap = reducer.fit_transform(scaled_embeddings)\n",
    "\n",
    "umap_dict = {\n",
    "    uniprot_id: embedding for uniprot_id, embedding in \\\n",
    "    zip(uniprot_ids, embeddings_umap)\n",
    "}\n",
    "umap_dict['P00533']"
   ]
  },
  {
   "cell_type": "code",
   "execution_count": 13,
   "metadata": {},
   "outputs": [
    {
     "data": {
      "text/html": [
       "<div>\n",
       "<style scoped>\n",
       "    .dataframe tbody tr th:only-of-type {\n",
       "        vertical-align: middle;\n",
       "    }\n",
       "\n",
       "    .dataframe tbody tr th {\n",
       "        vertical-align: top;\n",
       "    }\n",
       "\n",
       "    .dataframe thead th {\n",
       "        text-align: right;\n",
       "    }\n",
       "</style>\n",
       "<table border=\"1\" class=\"dataframe\">\n",
       "  <thead>\n",
       "    <tr style=\"text-align: right;\">\n",
       "      <th></th>\n",
       "      <th>uniprot_id</th>\n",
       "      <th>ligand_smiles</th>\n",
       "      <th>pKi</th>\n",
       "      <th>pKd</th>\n",
       "      <th>pIC50</th>\n",
       "      <th>pEC50</th>\n",
       "    </tr>\n",
       "  </thead>\n",
       "  <tbody>\n",
       "    <tr>\n",
       "      <th>0</th>\n",
       "      <td>P00533</td>\n",
       "      <td>*#Cc1cnc2c(Cl)cc(NC(C3=CN(C4CC4)NN3)c3ccc(F)nc...</td>\n",
       "      <td>NaN</td>\n",
       "      <td>NaN</td>\n",
       "      <td>7.021819</td>\n",
       "      <td>NaN</td>\n",
       "    </tr>\n",
       "    <tr>\n",
       "      <th>1</th>\n",
       "      <td>P52333</td>\n",
       "      <td>*.C=CC(=O)N1CC(Nc2ncnc3[nH]cc(Cl)c23)CCC1C.S</td>\n",
       "      <td>NaN</td>\n",
       "      <td>NaN</td>\n",
       "      <td>7.811072</td>\n",
       "      <td>NaN</td>\n",
       "    </tr>\n",
       "    <tr>\n",
       "      <th>2</th>\n",
       "      <td>Q02750</td>\n",
       "      <td>*.CC(O)CONC(=O)c1c2c(c(=O)n(C)c1Nc1ccc(I)cc1F)...</td>\n",
       "      <td>NaN</td>\n",
       "      <td>NaN</td>\n",
       "      <td>5.999957</td>\n",
       "      <td>NaN</td>\n",
       "    </tr>\n",
       "    <tr>\n",
       "      <th>3</th>\n",
       "      <td>P34896</td>\n",
       "      <td>*.CCC(C)C(NC(=O)Cc1csc(-c2ccc(Cl)cc2Cl)n1)C(=O...</td>\n",
       "      <td>NaN</td>\n",
       "      <td>NaN</td>\n",
       "      <td>3.698970</td>\n",
       "      <td>NaN</td>\n",
       "    </tr>\n",
       "    <tr>\n",
       "      <th>4</th>\n",
       "      <td>P34897</td>\n",
       "      <td>*.CCC(C)C(NC(=O)Cc1csc(-c2ccc(Cl)cc2Cl)n1)C(=O...</td>\n",
       "      <td>NaN</td>\n",
       "      <td>NaN</td>\n",
       "      <td>3.698970</td>\n",
       "      <td>NaN</td>\n",
       "    </tr>\n",
       "  </tbody>\n",
       "</table>\n",
       "</div>"
      ],
      "text/plain": [
       "  uniprot_id                                      ligand_smiles  pKi  pKd  \\\n",
       "0     P00533  *#Cc1cnc2c(Cl)cc(NC(C3=CN(C4CC4)NN3)c3ccc(F)nc...  NaN  NaN   \n",
       "1     P52333       *.C=CC(=O)N1CC(Nc2ncnc3[nH]cc(Cl)c23)CCC1C.S  NaN  NaN   \n",
       "2     Q02750  *.CC(O)CONC(=O)c1c2c(c(=O)n(C)c1Nc1ccc(I)cc1F)...  NaN  NaN   \n",
       "3     P34896  *.CCC(C)C(NC(=O)Cc1csc(-c2ccc(Cl)cc2Cl)n1)C(=O...  NaN  NaN   \n",
       "4     P34897  *.CCC(C)C(NC(=O)Cc1csc(-c2ccc(Cl)cc2Cl)n1)C(=O...  NaN  NaN   \n",
       "\n",
       "      pIC50  pEC50  \n",
       "0  7.021819    NaN  \n",
       "1  7.811072    NaN  \n",
       "2  5.999957    NaN  \n",
       "3  3.698970    NaN  \n",
       "4  3.698970    NaN  "
      ]
     },
     "execution_count": 13,
     "metadata": {},
     "output_type": "execute_result"
    }
   ],
   "source": [
    "import pandas as pd\n",
    "df = pd.read_parquet('data/data_human_reduced.parquet')\n",
    "df.head()"
   ]
  },
  {
   "cell_type": "code",
   "execution_count": 14,
   "metadata": {},
   "outputs": [],
   "source": [
    "# for all ligands, create a dictionary of ligand to list of uniprot ids\n",
    "ligand_to_uniprot_ids = {}\n",
    "for ligand, uniprot_id in zip(df['ligand_smiles'], df['uniprot_id']):\n",
    "    if ligand in ligand_to_uniprot_ids:\n",
    "        ligand_to_uniprot_ids[ligand].append(uniprot_id)\n",
    "    else:\n",
    "        ligand_to_uniprot_ids[ligand] = [uniprot_id]"
   ]
  },
  {
   "cell_type": "code",
   "execution_count": 15,
   "metadata": {},
   "outputs": [],
   "source": [
    "# select ligands with more than 50 uniprot ids\n",
    "ligand_to_uniprot_ids = {\n",
    "    ligand: uniprot_ids for ligand, uniprot_ids in \\\n",
    "    ligand_to_uniprot_ids.items() if len(uniprot_ids) > 300\n",
    "}"
   ]
  },
  {
   "cell_type": "code",
   "execution_count": 40,
   "metadata": {},
   "outputs": [],
   "source": [
    "import numpy as np\n",
    "import plotly.graph_objects as go\n",
    "\n",
    "def plot_and_save(ligand, df, umap_dict, param):\n",
    "    \n",
    "    df_ligand = df[df['ligand_smiles'] == ligand]\n",
    "    uniprot_ids = ligand_to_uniprot_ids[ligand]\n",
    "    embeddings = []\n",
    "    colors = []\n",
    "    hover_texts = []\n",
    "    for id in uniprot_ids:\n",
    "        row = df_ligand[df_ligand['uniprot_id'] == id]\n",
    "        if not row.empty and not pd.isnull(row[param].values[0]):\n",
    "            embeddings.append(umap_dict[id])\n",
    "            colors.append(row[param].values[0])\n",
    "            hover_texts.append(id)\n",
    "\n",
    "    if len(embeddings) < 6:\n",
    "        return None\n",
    "    \n",
    "    embeddings = np.array(embeddings)\n",
    "    fig = go.Figure(data=[go.Scatter3d(\n",
    "        x=embeddings[:, 0],\n",
    "        y=embeddings[:, 1],\n",
    "        z=embeddings[:, 2],\n",
    "        mode='markers',\n",
    "        marker=dict(\n",
    "            size=5,\n",
    "            color=colors,\n",
    "            colorscale='Viridis',\n",
    "            opacity=0.8,\n",
    "            colorbar=dict(title='Colorbar')\n",
    "        ),\n",
    "        text=hover_texts,\n",
    "        hoverinfo='text'\n",
    "    )])\n",
    "    fig.update_layout(scene=dict(\n",
    "        xaxis_title='UMAP 1',\n",
    "        yaxis_title='UMAP 2',\n",
    "        zaxis_title='UMAP 3'\n",
    "    ))\n",
    "    fig_json = fig.to_json()\n",
    "    return fig_json"
   ]
  },
  {
   "cell_type": "code",
   "execution_count": 41,
   "metadata": {},
   "outputs": [
    {
     "name": "stderr",
     "output_type": "stream",
     "text": [
      "100%|██████████| 75/75 [01:02<00:00,  1.20it/s]\n"
     ]
    }
   ],
   "source": [
    "import os\n",
    "from tqdm import tqdm\n",
    "\n",
    "for ligand in tqdm(ligand_to_uniprot_ids):\n",
    "    for param in ['pKi', 'pKd', 'pIC50', 'pEC50']:\n",
    "        os.makedirs(f'plots/{param}', exist_ok=True)\n",
    "        fig_json = plot_and_save(ligand, df, umap_dict, param)\n",
    "        if fig_json:\n",
    "            with open(f'plots/{param}/{ligand}.json', 'w') as f:\n",
    "                f.write(fig_json)"
   ]
  }
 ],
 "metadata": {
  "kernelspec": {
   "display_name": "base",
   "language": "python",
   "name": "python3"
  },
  "language_info": {
   "codemirror_mode": {
    "name": "ipython",
    "version": 3
   },
   "file_extension": ".py",
   "mimetype": "text/x-python",
   "name": "python",
   "nbconvert_exporter": "python",
   "pygments_lexer": "ipython3",
   "version": "3.8.10"
  }
 },
 "nbformat": 4,
 "nbformat_minor": 2
}
